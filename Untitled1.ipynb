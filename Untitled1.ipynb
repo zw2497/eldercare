{
 "cells": [
  {
   "cell_type": "code",
   "execution_count": 42,
   "metadata": {},
   "outputs": [
    {
     "name": "stdout",
     "output_type": "stream",
     "text": [
      "1\n"
     ]
    }
   ],
   "source": [
    "from smbus2 import SMBus, i2c_msg, SMBusWrapper\n",
    "from smbus2 import SMBusWrapper\n",
    "# 1: Convert message content to list\n",
    "# msg = i2c_msg.write(0x4c, [0x15,0x30,0x00,0x0C])\n",
    "with SMBusWrapper(1) as bus:\n",
    "    b = bus.read_byte_data(0x4c, 0x0, 5)\n",
    "    print(b)\n"
   ]
  },
  {
   "cell_type": "code",
   "execution_count": 44,
   "metadata": {},
   "outputs": [
    {
     "name": "stdout",
     "output_type": "stream",
     "text": [
      "<smbus2.smbus2.i2c_msg object at 0x73d6a660>\n"
     ]
    }
   ],
   "source": [
    "# Single transaction writing two bytes then read two at address 80\n",
    "write = i2c_msg.write(0x4c, [0x15, 0x30, 0x00, 0x0C])\n",
    "read = i2c_msg.read(0x4c, 2)\n",
    "with SMBusWrapper(1) as bus:\n",
    "    bus.i2c_rdwr(write, read)\n",
    "    print(read)"
   ]
  },
  {
   "cell_type": "code",
   "execution_count": 46,
   "metadata": {},
   "outputs": [
    {
     "data": {
      "text/plain": [
       "'0b11110'"
      ]
     },
     "execution_count": 46,
     "metadata": {},
     "output_type": "execute_result"
    }
   ],
   "source": [
    "bin(30)"
   ]
  },
  {
   "cell_type": "code",
   "execution_count": null,
   "metadata": {},
   "outputs": [],
   "source": [
    "00011110"
   ]
  }
 ],
 "metadata": {
  "kernelspec": {
   "display_name": "Python (py36)",
   "language": "python",
   "name": "py36"
  },
  "language_info": {
   "codemirror_mode": {
    "name": "ipython",
    "version": 3
   },
   "file_extension": ".py",
   "mimetype": "text/x-python",
   "name": "python",
   "nbconvert_exporter": "python",
   "pygments_lexer": "ipython3",
   "version": "3.6.6"
  }
 },
 "nbformat": 4,
 "nbformat_minor": 2
}
