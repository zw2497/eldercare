{
 "cells": [
  {
   "cell_type": "code",
   "execution_count": 10,
   "metadata": {},
   "outputs": [],
   "source": [
    "#!/usr/bin/python\n",
    "\n",
    "import smbus\n",
    "\n",
    "bus = smbus.SMBus(1)    # 0 = /dev/i2c-0 (port I2C0), 1 = /dev/i2c-1 (port I2C1)\n",
    "DEVICE_ADDRESS = 0x4c      #7 bit address (will be left shifted to add the read write bit)\n",
    "DEVICE_REG_MODE1 = 0x00\n",
    "DEVICE_REG_LEDOUT0 = 0x1d\n",
    "#Write a single register\n",
    "bus.write_byte_data(DEVICE_ADDRESS, DEVICE_REG_MODE1, 0x80)\n",
    "\n",
    "#Write an array of registers\n",
    "ledout_values = [0xff, 0xff, 0xff, 0xff, 0xff, 0xff]\n",
    "\n",
    "bus.write_i2c_block_data(DEVICE_ADDRESS, DEVICE_REG_LEDOUT0, ledout_values)"
   ]
  },
  {
   "cell_type": "code",
   "execution_count": 31,
   "metadata": {},
   "outputs": [
    {
     "data": {
      "text/plain": [
       "156"
      ]
     },
     "execution_count": 31,
     "metadata": {},
     "output_type": "execute_result"
    }
   ],
   "source": [
    "bus.read_byte_data(0x4c,0x01)"
   ]
  },
  {
   "cell_type": "code",
   "execution_count": null,
   "metadata": {},
   "outputs": [],
   "source": []
  }
 ],
 "metadata": {
  "kernelspec": {
   "display_name": "Python 3",
   "language": "python",
   "name": "python3"
  },
  "language_info": {
   "codemirror_mode": {
    "name": "ipython",
    "version": 3
   },
   "file_extension": ".py",
   "mimetype": "text/x-python",
   "name": "python",
   "nbconvert_exporter": "python",
   "pygments_lexer": "ipython3",
   "version": "3.5.3"
  }
 },
 "nbformat": 4,
 "nbformat_minor": 2
}
